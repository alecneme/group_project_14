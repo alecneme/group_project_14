{
 "cells": [
  {
   "cell_type": "markdown",
   "id": "f53515bd-c02b-49a0-9b6c-4a6569a20031",
   "metadata": {
    "tags": []
   },
   "source": [
    "#Group proposal\n",
    "In this project, we seek to ..."
   ]
  },
  {
   "cell_type": "code",
   "execution_count": null,
   "id": "e8a3e865-fbf9-4ce3-b962-1a3e02d175ab",
   "metadata": {},
   "outputs": [],
   "source": [
    "dhbcisoa "
   ]
  },
  {
   "cell_type": "code",
   "execution_count": null,
   "id": "03052f5e-a50b-4dc6-b627-b9bc8e09fcc5",
   "metadata": {},
   "outputs": [],
   "source": [
    "library(tidyverse)\n",
    "sleep_quality <- read_csv(\"data/sleep_quality.csv\")\n",
    "sleep "
   ]
  },
  {
   "cell_type": "code",
   "execution_count": null,
   "id": "ce53eb42-41b2-4e1e-aa57-98bd2ecb0cb1",
   "metadata": {},
   "outputs": [],
   "source": []
  }
 ],
 "metadata": {
  "kernelspec": {
   "display_name": "R",
   "language": "R",
   "name": "ir"
  },
  "language_info": {
   "codemirror_mode": "r",
   "file_extension": ".r",
   "mimetype": "text/x-r-source",
   "name": "R",
   "pygments_lexer": "r",
   "version": "4.2.2"
  }
 },
 "nbformat": 4,
 "nbformat_minor": 5
}
