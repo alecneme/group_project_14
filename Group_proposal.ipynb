{
 "cells": [
  {
   "cell_type": "markdown",
   "id": "f53515bd-c02b-49a0-9b6c-4a6569a20031",
   "metadata": {
    "tags": []
   },
   "source": [
    "#Group proposal\n",
    "In this project, we seek to ..."
   ]
  },
  {
   "cell_type": "code",
   "execution_count": null,
   "id": "e8a3e865-fbf9-4ce3-b962-1a3e02d175ab",
   "metadata": {},
   "outputs": [],
   "source": [
    "dhbcisoa "
   ]
  },
  {
   "cell_type": "code",
   "execution_count": 9,
   "id": "03052f5e-a50b-4dc6-b627-b9bc8e09fcc5",
   "metadata": {
    "tags": []
   },
   "outputs": [
    {
     "name": "stderr",
     "output_type": "stream",
     "text": [
      "\u001b[1mRows: \u001b[22m\u001b[34m374\u001b[39m \u001b[1mColumns: \u001b[22m\u001b[34m13\u001b[39m\n",
      "\u001b[36m──\u001b[39m \u001b[1mColumn specification\u001b[22m \u001b[36m────────────────────────────────────────────────────────\u001b[39m\n",
      "\u001b[1mDelimiter:\u001b[22m \",\"\n",
      "\u001b[31mchr\u001b[39m (5): Gender, Occupation, BMI Category, Blood Pressure, Sleep Disorder\n",
      "\u001b[32mdbl\u001b[39m (8): Person ID, Age, Sleep Duration, Quality of Sleep, Physical Activity...\n",
      "\n",
      "\u001b[36mℹ\u001b[39m Use `spec()` to retrieve the full column specification for this data.\n",
      "\u001b[36mℹ\u001b[39m Specify the column types or set `show_col_types = FALSE` to quiet this message.\n"
     ]
    },
    {
     "data": {
      "text/html": [
       "<table class=\"dataframe\">\n",
       "<caption>A spec_tbl_df: 374 × 13</caption>\n",
       "<thead>\n",
       "\t<tr><th scope=col>Person ID</th><th scope=col>Gender</th><th scope=col>Age</th><th scope=col>Occupation</th><th scope=col>Sleep Duration</th><th scope=col>Quality of Sleep</th><th scope=col>Physical Activity Level</th><th scope=col>Stress Level</th><th scope=col>BMI Category</th><th scope=col>Blood Pressure</th><th scope=col>Heart Rate</th><th scope=col>Daily Steps</th><th scope=col>Sleep Disorder</th></tr>\n",
       "\t<tr><th scope=col>&lt;dbl&gt;</th><th scope=col>&lt;chr&gt;</th><th scope=col>&lt;dbl&gt;</th><th scope=col>&lt;chr&gt;</th><th scope=col>&lt;dbl&gt;</th><th scope=col>&lt;dbl&gt;</th><th scope=col>&lt;dbl&gt;</th><th scope=col>&lt;dbl&gt;</th><th scope=col>&lt;chr&gt;</th><th scope=col>&lt;chr&gt;</th><th scope=col>&lt;dbl&gt;</th><th scope=col>&lt;dbl&gt;</th><th scope=col>&lt;chr&gt;</th></tr>\n",
       "</thead>\n",
       "<tbody>\n",
       "\t<tr><td>1</td><td>Male</td><td>27</td><td>Software Engineer</td><td>6.1</td><td>6</td><td>42</td><td>6</td><td>Overweight</td><td>126/83</td><td>77</td><td> 4200</td><td>None</td></tr>\n",
       "\t<tr><td>2</td><td>Male</td><td>28</td><td>Doctor           </td><td>6.2</td><td>6</td><td>60</td><td>8</td><td>Normal    </td><td>125/80</td><td>75</td><td>10000</td><td>None</td></tr>\n",
       "\t<tr><td>3</td><td>Male</td><td>28</td><td>Doctor           </td><td>6.2</td><td>6</td><td>60</td><td>8</td><td>Normal    </td><td>125/80</td><td>75</td><td>10000</td><td>None</td></tr>\n",
       "\t<tr><td>⋮</td><td>⋮</td><td>⋮</td><td>⋮</td><td>⋮</td><td>⋮</td><td>⋮</td><td>⋮</td><td>⋮</td><td>⋮</td><td>⋮</td><td>⋮</td><td>⋮</td></tr>\n",
       "\t<tr><td>372</td><td>Female</td><td>59</td><td>Nurse</td><td>8.1</td><td>9</td><td>75</td><td>3</td><td>Overweight</td><td>140/95</td><td>68</td><td>7000</td><td>Sleep Apnea</td></tr>\n",
       "\t<tr><td>373</td><td>Female</td><td>59</td><td>Nurse</td><td>8.1</td><td>9</td><td>75</td><td>3</td><td>Overweight</td><td>140/95</td><td>68</td><td>7000</td><td>Sleep Apnea</td></tr>\n",
       "\t<tr><td>374</td><td>Female</td><td>59</td><td>Nurse</td><td>8.1</td><td>9</td><td>75</td><td>3</td><td>Overweight</td><td>140/95</td><td>68</td><td>7000</td><td>Sleep Apnea</td></tr>\n",
       "</tbody>\n",
       "</table>\n"
      ],
      "text/latex": [
       "A spec\\_tbl\\_df: 374 × 13\n",
       "\\begin{tabular}{lllllllllllll}\n",
       " Person ID & Gender & Age & Occupation & Sleep Duration & Quality of Sleep & Physical Activity Level & Stress Level & BMI Category & Blood Pressure & Heart Rate & Daily Steps & Sleep Disorder\\\\\n",
       " <dbl> & <chr> & <dbl> & <chr> & <dbl> & <dbl> & <dbl> & <dbl> & <chr> & <chr> & <dbl> & <dbl> & <chr>\\\\\n",
       "\\hline\n",
       "\t 1 & Male & 27 & Software Engineer & 6.1 & 6 & 42 & 6 & Overweight & 126/83 & 77 &  4200 & None\\\\\n",
       "\t 2 & Male & 28 & Doctor            & 6.2 & 6 & 60 & 8 & Normal     & 125/80 & 75 & 10000 & None\\\\\n",
       "\t 3 & Male & 28 & Doctor            & 6.2 & 6 & 60 & 8 & Normal     & 125/80 & 75 & 10000 & None\\\\\n",
       "\t ⋮ & ⋮ & ⋮ & ⋮ & ⋮ & ⋮ & ⋮ & ⋮ & ⋮ & ⋮ & ⋮ & ⋮ & ⋮\\\\\n",
       "\t 372 & Female & 59 & Nurse & 8.1 & 9 & 75 & 3 & Overweight & 140/95 & 68 & 7000 & Sleep Apnea\\\\\n",
       "\t 373 & Female & 59 & Nurse & 8.1 & 9 & 75 & 3 & Overweight & 140/95 & 68 & 7000 & Sleep Apnea\\\\\n",
       "\t 374 & Female & 59 & Nurse & 8.1 & 9 & 75 & 3 & Overweight & 140/95 & 68 & 7000 & Sleep Apnea\\\\\n",
       "\\end{tabular}\n"
      ],
      "text/markdown": [
       "\n",
       "A spec_tbl_df: 374 × 13\n",
       "\n",
       "| Person ID &lt;dbl&gt; | Gender &lt;chr&gt; | Age &lt;dbl&gt; | Occupation &lt;chr&gt; | Sleep Duration &lt;dbl&gt; | Quality of Sleep &lt;dbl&gt; | Physical Activity Level &lt;dbl&gt; | Stress Level &lt;dbl&gt; | BMI Category &lt;chr&gt; | Blood Pressure &lt;chr&gt; | Heart Rate &lt;dbl&gt; | Daily Steps &lt;dbl&gt; | Sleep Disorder &lt;chr&gt; |\n",
       "|---|---|---|---|---|---|---|---|---|---|---|---|---|\n",
       "| 1 | Male | 27 | Software Engineer | 6.1 | 6 | 42 | 6 | Overweight | 126/83 | 77 |  4200 | None |\n",
       "| 2 | Male | 28 | Doctor            | 6.2 | 6 | 60 | 8 | Normal     | 125/80 | 75 | 10000 | None |\n",
       "| 3 | Male | 28 | Doctor            | 6.2 | 6 | 60 | 8 | Normal     | 125/80 | 75 | 10000 | None |\n",
       "| ⋮ | ⋮ | ⋮ | ⋮ | ⋮ | ⋮ | ⋮ | ⋮ | ⋮ | ⋮ | ⋮ | ⋮ | ⋮ |\n",
       "| 372 | Female | 59 | Nurse | 8.1 | 9 | 75 | 3 | Overweight | 140/95 | 68 | 7000 | Sleep Apnea |\n",
       "| 373 | Female | 59 | Nurse | 8.1 | 9 | 75 | 3 | Overweight | 140/95 | 68 | 7000 | Sleep Apnea |\n",
       "| 374 | Female | 59 | Nurse | 8.1 | 9 | 75 | 3 | Overweight | 140/95 | 68 | 7000 | Sleep Apnea |\n",
       "\n"
      ],
      "text/plain": [
       "    Person ID Gender Age Occupation        Sleep Duration Quality of Sleep\n",
       "1   1         Male   27  Software Engineer 6.1            6               \n",
       "2   2         Male   28  Doctor            6.2            6               \n",
       "3   3         Male   28  Doctor            6.2            6               \n",
       "⋮   ⋮         ⋮      ⋮   ⋮                 ⋮              ⋮               \n",
       "372 372       Female 59  Nurse             8.1            9               \n",
       "373 373       Female 59  Nurse             8.1            9               \n",
       "374 374       Female 59  Nurse             8.1            9               \n",
       "    Physical Activity Level Stress Level BMI Category Blood Pressure Heart Rate\n",
       "1   42                      6            Overweight   126/83         77        \n",
       "2   60                      8            Normal       125/80         75        \n",
       "3   60                      8            Normal       125/80         75        \n",
       "⋮   ⋮                       ⋮            ⋮            ⋮              ⋮         \n",
       "372 75                      3            Overweight   140/95         68        \n",
       "373 75                      3            Overweight   140/95         68        \n",
       "374 75                      3            Overweight   140/95         68        \n",
       "    Daily Steps Sleep Disorder\n",
       "1    4200       None          \n",
       "2   10000       None          \n",
       "3   10000       None          \n",
       "⋮   ⋮           ⋮             \n",
       "372 7000        Sleep Apnea   \n",
       "373 7000        Sleep Apnea   \n",
       "374 7000        Sleep Apnea   "
      ]
     },
     "metadata": {},
     "output_type": "display_data"
    }
   ],
   "source": [
    "library(tidyverse)\n",
    "library(repr)\n",
    "library(tidymodels)\n",
    "options(repr.matrix.max.rows = 6)\n",
    "sleep_quality <- read_csv(\"data/sleep_quality.csv\")\n",
    "sleep_quality "
   ]
  },
  {
   "cell_type": "code",
   "execution_count": 13,
   "id": "ce53eb42-41b2-4e1e-aa57-98bd2ecb0cb1",
   "metadata": {},
   "outputs": [
    {
     "data": {
      "text/html": [
       "<table class=\"dataframe\">\n",
       "<caption>A tibble: 279 × 13</caption>\n",
       "<thead>\n",
       "\t<tr><th scope=col>Person ID</th><th scope=col>Gender</th><th scope=col>Age</th><th scope=col>Occupation</th><th scope=col>Sleep Duration</th><th scope=col>Quality of Sleep</th><th scope=col>Physical Activity Level</th><th scope=col>Stress Level</th><th scope=col>BMI Category</th><th scope=col>Blood Pressure</th><th scope=col>Heart Rate</th><th scope=col>Daily Steps</th><th scope=col>Sleep Disorder</th></tr>\n",
       "\t<tr><th scope=col>&lt;dbl&gt;</th><th scope=col>&lt;chr&gt;</th><th scope=col>&lt;dbl&gt;</th><th scope=col>&lt;chr&gt;</th><th scope=col>&lt;dbl&gt;</th><th scope=col>&lt;dbl&gt;</th><th scope=col>&lt;dbl&gt;</th><th scope=col>&lt;dbl&gt;</th><th scope=col>&lt;chr&gt;</th><th scope=col>&lt;chr&gt;</th><th scope=col>&lt;dbl&gt;</th><th scope=col>&lt;dbl&gt;</th><th scope=col>&lt;chr&gt;</th></tr>\n",
       "</thead>\n",
       "<tbody>\n",
       "\t<tr><td> 7</td><td>Male  </td><td>29</td><td>Teacher</td><td>6.3</td><td>6</td><td>40</td><td>7</td><td>Obese        </td><td>140/90</td><td>82</td><td>3500</td><td>Insomnia</td></tr>\n",
       "\t<tr><td>19</td><td>Female</td><td>29</td><td>Nurse  </td><td>6.5</td><td>5</td><td>40</td><td>7</td><td>Normal Weight</td><td>132/87</td><td>80</td><td>4000</td><td>Insomnia</td></tr>\n",
       "\t<tr><td>32</td><td>Female</td><td>30</td><td>Nurse  </td><td>6.4</td><td>5</td><td>35</td><td>7</td><td>Normal Weight</td><td>130/86</td><td>78</td><td>4100</td><td>Insomnia</td></tr>\n",
       "\t<tr><td>⋮</td><td>⋮</td><td>⋮</td><td>⋮</td><td>⋮</td><td>⋮</td><td>⋮</td><td>⋮</td><td>⋮</td><td>⋮</td><td>⋮</td><td>⋮</td><td>⋮</td></tr>\n",
       "\t<tr><td>370</td><td>Female</td><td>59</td><td>Nurse</td><td>8.1</td><td>9</td><td>75</td><td>3</td><td>Overweight</td><td>140/95</td><td>68</td><td>7000</td><td>Sleep Apnea</td></tr>\n",
       "\t<tr><td>373</td><td>Female</td><td>59</td><td>Nurse</td><td>8.1</td><td>9</td><td>75</td><td>3</td><td>Overweight</td><td>140/95</td><td>68</td><td>7000</td><td>Sleep Apnea</td></tr>\n",
       "\t<tr><td>374</td><td>Female</td><td>59</td><td>Nurse</td><td>8.1</td><td>9</td><td>75</td><td>3</td><td>Overweight</td><td>140/95</td><td>68</td><td>7000</td><td>Sleep Apnea</td></tr>\n",
       "</tbody>\n",
       "</table>\n"
      ],
      "text/latex": [
       "A tibble: 279 × 13\n",
       "\\begin{tabular}{lllllllllllll}\n",
       " Person ID & Gender & Age & Occupation & Sleep Duration & Quality of Sleep & Physical Activity Level & Stress Level & BMI Category & Blood Pressure & Heart Rate & Daily Steps & Sleep Disorder\\\\\n",
       " <dbl> & <chr> & <dbl> & <chr> & <dbl> & <dbl> & <dbl> & <dbl> & <chr> & <chr> & <dbl> & <dbl> & <chr>\\\\\n",
       "\\hline\n",
       "\t  7 & Male   & 29 & Teacher & 6.3 & 6 & 40 & 7 & Obese         & 140/90 & 82 & 3500 & Insomnia\\\\\n",
       "\t 19 & Female & 29 & Nurse   & 6.5 & 5 & 40 & 7 & Normal Weight & 132/87 & 80 & 4000 & Insomnia\\\\\n",
       "\t 32 & Female & 30 & Nurse   & 6.4 & 5 & 35 & 7 & Normal Weight & 130/86 & 78 & 4100 & Insomnia\\\\\n",
       "\t ⋮ & ⋮ & ⋮ & ⋮ & ⋮ & ⋮ & ⋮ & ⋮ & ⋮ & ⋮ & ⋮ & ⋮ & ⋮\\\\\n",
       "\t 370 & Female & 59 & Nurse & 8.1 & 9 & 75 & 3 & Overweight & 140/95 & 68 & 7000 & Sleep Apnea\\\\\n",
       "\t 373 & Female & 59 & Nurse & 8.1 & 9 & 75 & 3 & Overweight & 140/95 & 68 & 7000 & Sleep Apnea\\\\\n",
       "\t 374 & Female & 59 & Nurse & 8.1 & 9 & 75 & 3 & Overweight & 140/95 & 68 & 7000 & Sleep Apnea\\\\\n",
       "\\end{tabular}\n"
      ],
      "text/markdown": [
       "\n",
       "A tibble: 279 × 13\n",
       "\n",
       "| Person ID &lt;dbl&gt; | Gender &lt;chr&gt; | Age &lt;dbl&gt; | Occupation &lt;chr&gt; | Sleep Duration &lt;dbl&gt; | Quality of Sleep &lt;dbl&gt; | Physical Activity Level &lt;dbl&gt; | Stress Level &lt;dbl&gt; | BMI Category &lt;chr&gt; | Blood Pressure &lt;chr&gt; | Heart Rate &lt;dbl&gt; | Daily Steps &lt;dbl&gt; | Sleep Disorder &lt;chr&gt; |\n",
       "|---|---|---|---|---|---|---|---|---|---|---|---|---|\n",
       "|  7 | Male   | 29 | Teacher | 6.3 | 6 | 40 | 7 | Obese         | 140/90 | 82 | 3500 | Insomnia |\n",
       "| 19 | Female | 29 | Nurse   | 6.5 | 5 | 40 | 7 | Normal Weight | 132/87 | 80 | 4000 | Insomnia |\n",
       "| 32 | Female | 30 | Nurse   | 6.4 | 5 | 35 | 7 | Normal Weight | 130/86 | 78 | 4100 | Insomnia |\n",
       "| ⋮ | ⋮ | ⋮ | ⋮ | ⋮ | ⋮ | ⋮ | ⋮ | ⋮ | ⋮ | ⋮ | ⋮ | ⋮ |\n",
       "| 370 | Female | 59 | Nurse | 8.1 | 9 | 75 | 3 | Overweight | 140/95 | 68 | 7000 | Sleep Apnea |\n",
       "| 373 | Female | 59 | Nurse | 8.1 | 9 | 75 | 3 | Overweight | 140/95 | 68 | 7000 | Sleep Apnea |\n",
       "| 374 | Female | 59 | Nurse | 8.1 | 9 | 75 | 3 | Overweight | 140/95 | 68 | 7000 | Sleep Apnea |\n",
       "\n"
      ],
      "text/plain": [
       "    Person ID Gender Age Occupation Sleep Duration Quality of Sleep\n",
       "1    7        Male   29  Teacher    6.3            6               \n",
       "2   19        Female 29  Nurse      6.5            5               \n",
       "3   32        Female 30  Nurse      6.4            5               \n",
       "⋮   ⋮         ⋮      ⋮   ⋮          ⋮              ⋮               \n",
       "277 370       Female 59  Nurse      8.1            9               \n",
       "278 373       Female 59  Nurse      8.1            9               \n",
       "279 374       Female 59  Nurse      8.1            9               \n",
       "    Physical Activity Level Stress Level BMI Category  Blood Pressure\n",
       "1   40                      7            Obese         140/90        \n",
       "2   40                      7            Normal Weight 132/87        \n",
       "3   35                      7            Normal Weight 130/86        \n",
       "⋮   ⋮                       ⋮            ⋮             ⋮             \n",
       "277 75                      3            Overweight    140/95        \n",
       "278 75                      3            Overweight    140/95        \n",
       "279 75                      3            Overweight    140/95        \n",
       "    Heart Rate Daily Steps Sleep Disorder\n",
       "1   82         3500        Insomnia      \n",
       "2   80         4000        Insomnia      \n",
       "3   78         4100        Insomnia      \n",
       "⋮   ⋮          ⋮           ⋮             \n",
       "277 68         7000        Sleep Apnea   \n",
       "278 68         7000        Sleep Apnea   \n",
       "279 68         7000        Sleep Apnea   "
      ]
     },
     "metadata": {},
     "output_type": "display_data"
    },
    {
     "data": {
      "text/html": [
       "<table class=\"dataframe\">\n",
       "<caption>A tibble: 95 × 13</caption>\n",
       "<thead>\n",
       "\t<tr><th scope=col>Person ID</th><th scope=col>Gender</th><th scope=col>Age</th><th scope=col>Occupation</th><th scope=col>Sleep Duration</th><th scope=col>Quality of Sleep</th><th scope=col>Physical Activity Level</th><th scope=col>Stress Level</th><th scope=col>BMI Category</th><th scope=col>Blood Pressure</th><th scope=col>Heart Rate</th><th scope=col>Daily Steps</th><th scope=col>Sleep Disorder</th></tr>\n",
       "\t<tr><th scope=col>&lt;dbl&gt;</th><th scope=col>&lt;chr&gt;</th><th scope=col>&lt;dbl&gt;</th><th scope=col>&lt;chr&gt;</th><th scope=col>&lt;dbl&gt;</th><th scope=col>&lt;dbl&gt;</th><th scope=col>&lt;dbl&gt;</th><th scope=col>&lt;dbl&gt;</th><th scope=col>&lt;chr&gt;</th><th scope=col>&lt;chr&gt;</th><th scope=col>&lt;dbl&gt;</th><th scope=col>&lt;dbl&gt;</th><th scope=col>&lt;chr&gt;</th></tr>\n",
       "</thead>\n",
       "<tbody>\n",
       "\t<tr><td> 6</td><td>Male</td><td>28</td><td>Software Engineer</td><td>5.9</td><td>4</td><td>30</td><td>8</td><td>Obese </td><td>140/90</td><td>85</td><td>3000</td><td>Insomnia</td></tr>\n",
       "\t<tr><td> 9</td><td>Male</td><td>29</td><td>Doctor           </td><td>7.8</td><td>7</td><td>75</td><td>6</td><td>Normal</td><td>120/80</td><td>70</td><td>8000</td><td>None    </td></tr>\n",
       "\t<tr><td>11</td><td>Male</td><td>29</td><td>Doctor           </td><td>6.1</td><td>6</td><td>30</td><td>8</td><td>Normal</td><td>120/80</td><td>70</td><td>8000</td><td>None    </td></tr>\n",
       "\t<tr><td>⋮</td><td>⋮</td><td>⋮</td><td>⋮</td><td>⋮</td><td>⋮</td><td>⋮</td><td>⋮</td><td>⋮</td><td>⋮</td><td>⋮</td><td>⋮</td><td>⋮</td></tr>\n",
       "\t<tr><td>356</td><td>Female</td><td>58</td><td>Nurse</td><td>8.0</td><td>9</td><td>75</td><td>3</td><td>Overweight</td><td>140/95</td><td>68</td><td>7000</td><td>Sleep Apnea</td></tr>\n",
       "\t<tr><td>371</td><td>Female</td><td>59</td><td>Nurse</td><td>8.0</td><td>9</td><td>75</td><td>3</td><td>Overweight</td><td>140/95</td><td>68</td><td>7000</td><td>Sleep Apnea</td></tr>\n",
       "\t<tr><td>372</td><td>Female</td><td>59</td><td>Nurse</td><td>8.1</td><td>9</td><td>75</td><td>3</td><td>Overweight</td><td>140/95</td><td>68</td><td>7000</td><td>Sleep Apnea</td></tr>\n",
       "</tbody>\n",
       "</table>\n"
      ],
      "text/latex": [
       "A tibble: 95 × 13\n",
       "\\begin{tabular}{lllllllllllll}\n",
       " Person ID & Gender & Age & Occupation & Sleep Duration & Quality of Sleep & Physical Activity Level & Stress Level & BMI Category & Blood Pressure & Heart Rate & Daily Steps & Sleep Disorder\\\\\n",
       " <dbl> & <chr> & <dbl> & <chr> & <dbl> & <dbl> & <dbl> & <dbl> & <chr> & <chr> & <dbl> & <dbl> & <chr>\\\\\n",
       "\\hline\n",
       "\t  6 & Male & 28 & Software Engineer & 5.9 & 4 & 30 & 8 & Obese  & 140/90 & 85 & 3000 & Insomnia\\\\\n",
       "\t  9 & Male & 29 & Doctor            & 7.8 & 7 & 75 & 6 & Normal & 120/80 & 70 & 8000 & None    \\\\\n",
       "\t 11 & Male & 29 & Doctor            & 6.1 & 6 & 30 & 8 & Normal & 120/80 & 70 & 8000 & None    \\\\\n",
       "\t ⋮ & ⋮ & ⋮ & ⋮ & ⋮ & ⋮ & ⋮ & ⋮ & ⋮ & ⋮ & ⋮ & ⋮ & ⋮\\\\\n",
       "\t 356 & Female & 58 & Nurse & 8.0 & 9 & 75 & 3 & Overweight & 140/95 & 68 & 7000 & Sleep Apnea\\\\\n",
       "\t 371 & Female & 59 & Nurse & 8.0 & 9 & 75 & 3 & Overweight & 140/95 & 68 & 7000 & Sleep Apnea\\\\\n",
       "\t 372 & Female & 59 & Nurse & 8.1 & 9 & 75 & 3 & Overweight & 140/95 & 68 & 7000 & Sleep Apnea\\\\\n",
       "\\end{tabular}\n"
      ],
      "text/markdown": [
       "\n",
       "A tibble: 95 × 13\n",
       "\n",
       "| Person ID &lt;dbl&gt; | Gender &lt;chr&gt; | Age &lt;dbl&gt; | Occupation &lt;chr&gt; | Sleep Duration &lt;dbl&gt; | Quality of Sleep &lt;dbl&gt; | Physical Activity Level &lt;dbl&gt; | Stress Level &lt;dbl&gt; | BMI Category &lt;chr&gt; | Blood Pressure &lt;chr&gt; | Heart Rate &lt;dbl&gt; | Daily Steps &lt;dbl&gt; | Sleep Disorder &lt;chr&gt; |\n",
       "|---|---|---|---|---|---|---|---|---|---|---|---|---|\n",
       "|  6 | Male | 28 | Software Engineer | 5.9 | 4 | 30 | 8 | Obese  | 140/90 | 85 | 3000 | Insomnia |\n",
       "|  9 | Male | 29 | Doctor            | 7.8 | 7 | 75 | 6 | Normal | 120/80 | 70 | 8000 | None     |\n",
       "| 11 | Male | 29 | Doctor            | 6.1 | 6 | 30 | 8 | Normal | 120/80 | 70 | 8000 | None     |\n",
       "| ⋮ | ⋮ | ⋮ | ⋮ | ⋮ | ⋮ | ⋮ | ⋮ | ⋮ | ⋮ | ⋮ | ⋮ | ⋮ |\n",
       "| 356 | Female | 58 | Nurse | 8.0 | 9 | 75 | 3 | Overweight | 140/95 | 68 | 7000 | Sleep Apnea |\n",
       "| 371 | Female | 59 | Nurse | 8.0 | 9 | 75 | 3 | Overweight | 140/95 | 68 | 7000 | Sleep Apnea |\n",
       "| 372 | Female | 59 | Nurse | 8.1 | 9 | 75 | 3 | Overweight | 140/95 | 68 | 7000 | Sleep Apnea |\n",
       "\n"
      ],
      "text/plain": [
       "   Person ID Gender Age Occupation        Sleep Duration Quality of Sleep\n",
       "1   6        Male   28  Software Engineer 5.9            4               \n",
       "2   9        Male   29  Doctor            7.8            7               \n",
       "3  11        Male   29  Doctor            6.1            6               \n",
       "⋮  ⋮         ⋮      ⋮   ⋮                 ⋮              ⋮               \n",
       "93 356       Female 58  Nurse             8.0            9               \n",
       "94 371       Female 59  Nurse             8.0            9               \n",
       "95 372       Female 59  Nurse             8.1            9               \n",
       "   Physical Activity Level Stress Level BMI Category Blood Pressure Heart Rate\n",
       "1  30                      8            Obese        140/90         85        \n",
       "2  75                      6            Normal       120/80         70        \n",
       "3  30                      8            Normal       120/80         70        \n",
       "⋮  ⋮                       ⋮            ⋮            ⋮              ⋮         \n",
       "93 75                      3            Overweight   140/95         68        \n",
       "94 75                      3            Overweight   140/95         68        \n",
       "95 75                      3            Overweight   140/95         68        \n",
       "   Daily Steps Sleep Disorder\n",
       "1  3000        Insomnia      \n",
       "2  8000        None          \n",
       "3  8000        None          \n",
       "⋮  ⋮           ⋮             \n",
       "93 7000        Sleep Apnea   \n",
       "94 7000        Sleep Apnea   \n",
       "95 7000        Sleep Apnea   "
      ]
     },
     "metadata": {},
     "output_type": "display_data"
    }
   ],
   "source": [
    "sleep_split <- initial_split(sleep_quality, prop = 0.75, strata = \"Sleep Disorder\")\n",
    "sleep_training <- training(sleep_split)   \n",
    "sleep_testing <- testing(sleep_split)\n",
    "\n",
    "sleep_training\n",
    "sleep_testing"
   ]
  },
  {
   "cell_type": "code",
   "execution_count": null,
   "id": "a5c8b480-c4f3-40a0-b3e8-755de18dfb60",
   "metadata": {},
   "outputs": [],
   "source": []
  }
 ],
 "metadata": {
  "kernelspec": {
   "display_name": "R",
   "language": "R",
   "name": "ir"
  },
  "language_info": {
   "codemirror_mode": "r",
   "file_extension": ".r",
   "mimetype": "text/x-r-source",
   "name": "R",
   "pygments_lexer": "r",
   "version": "4.2.2"
  }
 },
 "nbformat": 4,
 "nbformat_minor": 5
}
